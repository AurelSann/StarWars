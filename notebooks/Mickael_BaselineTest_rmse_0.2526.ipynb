{
 "cells": [
  {
   "cell_type": "code",
   "execution_count": 1,
   "metadata": {},
   "outputs": [],
   "source": [
    "import numpy as np\n",
    "from PIL import Image\n",
    "import pandas as pd\n",
    "%config Completer.use_jedi = False"
   ]
  },
  {
   "cell_type": "markdown",
   "metadata": {},
   "source": [
    "# Building the DataFrame"
   ]
  },
  {
   "cell_type": "code",
   "execution_count": 36,
   "metadata": {},
   "outputs": [],
   "source": [
    "image_names = !ls ../raw_data/images_test_rev1/ #loading images_names.jpg to list\n",
    "df_image_names = pd.DataFrame(image_names)  \n",
    "df_image_names = df_image_names.rename(columns={0:'image'}) \n",
    "df_training_solutions_rev1 = pd.read_csv('../raw_data/training_solutions_rev1.csv')\n",
    "#loading y dataframe"
   ]
  },
  {
   "cell_type": "code",
   "execution_count": 3,
   "metadata": {},
   "outputs": [
    {
     "data": {
      "text/html": [
       "<div>\n",
       "<style scoped>\n",
       "    .dataframe tbody tr th:only-of-type {\n",
       "        vertical-align: middle;\n",
       "    }\n",
       "\n",
       "    .dataframe tbody tr th {\n",
       "        vertical-align: top;\n",
       "    }\n",
       "\n",
       "    .dataframe thead th {\n",
       "        text-align: right;\n",
       "    }\n",
       "</style>\n",
       "<table border=\"1\" class=\"dataframe\">\n",
       "  <thead>\n",
       "    <tr style=\"text-align: right;\">\n",
       "      <th></th>\n",
       "      <th>Class1.1</th>\n",
       "      <th>Class1.2</th>\n",
       "      <th>Class1.3</th>\n",
       "      <th>Class2.1</th>\n",
       "      <th>Class2.2</th>\n",
       "      <th>Class3.1</th>\n",
       "      <th>Class3.2</th>\n",
       "      <th>Class4.1</th>\n",
       "      <th>Class4.2</th>\n",
       "      <th>Class5.1</th>\n",
       "      <th>...</th>\n",
       "      <th>Class10.1</th>\n",
       "      <th>Class10.2</th>\n",
       "      <th>Class10.3</th>\n",
       "      <th>Class11.1</th>\n",
       "      <th>Class11.2</th>\n",
       "      <th>Class11.3</th>\n",
       "      <th>Class11.4</th>\n",
       "      <th>Class11.5</th>\n",
       "      <th>Class11.6</th>\n",
       "      <th>image</th>\n",
       "    </tr>\n",
       "  </thead>\n",
       "  <tbody>\n",
       "    <tr>\n",
       "      <th>0</th>\n",
       "      <td>0.383147</td>\n",
       "      <td>0.616853</td>\n",
       "      <td>0.000000</td>\n",
       "      <td>0.000000</td>\n",
       "      <td>0.616853</td>\n",
       "      <td>0.038452</td>\n",
       "      <td>0.578401</td>\n",
       "      <td>0.418398</td>\n",
       "      <td>0.198455</td>\n",
       "      <td>0.0</td>\n",
       "      <td>...</td>\n",
       "      <td>0.279952</td>\n",
       "      <td>0.138445</td>\n",
       "      <td>0.00000</td>\n",
       "      <td>0.0</td>\n",
       "      <td>0.092886</td>\n",
       "      <td>0.0</td>\n",
       "      <td>0.0</td>\n",
       "      <td>0.0</td>\n",
       "      <td>0.325512</td>\n",
       "      <td>100018.jpg</td>\n",
       "    </tr>\n",
       "    <tr>\n",
       "      <th>1</th>\n",
       "      <td>0.327001</td>\n",
       "      <td>0.663777</td>\n",
       "      <td>0.009222</td>\n",
       "      <td>0.031178</td>\n",
       "      <td>0.632599</td>\n",
       "      <td>0.467370</td>\n",
       "      <td>0.165229</td>\n",
       "      <td>0.591328</td>\n",
       "      <td>0.041271</td>\n",
       "      <td>0.0</td>\n",
       "      <td>...</td>\n",
       "      <td>0.000000</td>\n",
       "      <td>0.131378</td>\n",
       "      <td>0.45995</td>\n",
       "      <td>0.0</td>\n",
       "      <td>0.591328</td>\n",
       "      <td>0.0</td>\n",
       "      <td>0.0</td>\n",
       "      <td>0.0</td>\n",
       "      <td>0.000000</td>\n",
       "      <td>100037.jpg</td>\n",
       "    </tr>\n",
       "  </tbody>\n",
       "</table>\n",
       "<p>2 rows × 38 columns</p>\n",
       "</div>"
      ],
      "text/plain": [
       "   Class1.1  Class1.2  Class1.3  Class2.1  Class2.2  Class3.1  Class3.2  \\\n",
       "0  0.383147  0.616853  0.000000  0.000000  0.616853  0.038452  0.578401   \n",
       "1  0.327001  0.663777  0.009222  0.031178  0.632599  0.467370  0.165229   \n",
       "\n",
       "   Class4.1  Class4.2  Class5.1  ...  Class10.1  Class10.2  Class10.3  \\\n",
       "0  0.418398  0.198455       0.0  ...   0.279952   0.138445    0.00000   \n",
       "1  0.591328  0.041271       0.0  ...   0.000000   0.131378    0.45995   \n",
       "\n",
       "   Class11.1  Class11.2  Class11.3  Class11.4  Class11.5  Class11.6  \\\n",
       "0        0.0   0.092886        0.0        0.0        0.0   0.325512   \n",
       "1        0.0   0.591328        0.0        0.0        0.0   0.000000   \n",
       "\n",
       "        image  \n",
       "0  100018.jpg  \n",
       "1  100037.jpg  \n",
       "\n",
       "[2 rows x 38 columns]"
      ]
     },
     "execution_count": 3,
     "metadata": {},
     "output_type": "execute_result"
    }
   ],
   "source": [
    "df_training_solutions_rev1['image'] = df_image_names['image']\n",
    "df_X_y = df_training_solutions_rev1.drop(columns=['GalaxyID'])\n",
    "df_X_y.head(2) #final dataframe with y and image_names.jpg"
   ]
  },
  {
   "cell_type": "code",
   "execution_count": 4,
   "metadata": {},
   "outputs": [
    {
     "data": {
      "text/plain": [
       "(400, 38)"
      ]
     },
     "execution_count": 4,
     "metadata": {},
     "output_type": "execute_result"
    }
   ],
   "source": [
    "df_X_y_sample = df_X_y.sample(400)\n",
    "df_X_y_sample.shape"
   ]
  },
  {
   "cell_type": "code",
   "execution_count": 40,
   "metadata": {},
   "outputs": [
    {
     "data": {
      "text/plain": [
       "(200, 38)"
      ]
     },
     "execution_count": 40,
     "metadata": {},
     "output_type": "execute_result"
    }
   ],
   "source": [
    "df_X_y_train = df_X_y_sample[:200]\n",
    "df_X_y_test = df_X_y_sample[200:]\n",
    "df_X_y_train.shape\n"
   ]
  },
  {
   "cell_type": "code",
   "execution_count": 6,
   "metadata": {},
   "outputs": [],
   "source": [
    "import tensorflow as tf\n",
    "\n",
    "def load_image(image):\n",
    "    '''returns one image'''\n",
    "    folder = f'../raw_data/images_test_rev1/{image}'\n",
    "    img = Image.open(folder)\n",
    "    img_array = np.array(img)\n",
    "    return np.resize(img_array, (224,224,3))\n",
    "    \n",
    "def load_images(df):\n",
    "    '''returns array of images'''\n",
    "    img_list = []\n",
    "    for _, row in df.iterrows():\n",
    "        img = load_image(row[\"image\"])\n",
    "        img_list.append(img) \n",
    "    return np.stack(img_list)\n",
    "\n",
    "class DataGenerator(tf.keras.utils.Sequence):\n",
    "    \n",
    "    def __init__(self, df, batch_size=64, shuffle=True, ):\n",
    "        self.batch_size = batch_size\n",
    "        self.df = df\n",
    "        self.indices = self.df.index.tolist()\n",
    "        self.shuffle = shuffle\n",
    "        self.on_epoch_end()\n",
    "        \n",
    "\n",
    "    def __len__(self):\n",
    "        '''returns number of minibatches per epoch'''\n",
    "        return len(self.indices) // self.batch_size\n",
    "    \n",
    "    def on_epoch_end(self):\n",
    "        '''shuffles the indices '''\n",
    "        self.index = np.arange(len(self.indices))\n",
    "        if self.shuffle == True:\n",
    "            np.random.shuffle(self.index)\n",
    "            \n",
    "    def __get_X_image(self, df):\n",
    "        '''returns images'''\n",
    "        X = load_images(df)\n",
    "        return X \n",
    "             \n",
    "    def __get_Y(self, df):\n",
    "        '''returns y'''\n",
    "        return np.array(df.drop(columns=[\"image\"]))\n",
    "    \n",
    "    def _get_data(self, batch):\n",
    "        '''returns batch of images and y'''\n",
    "        df_batch = self.df.query(\"index in @batch\") \n",
    "        X = self.__get_X_image(df_batch)\n",
    "        y = self.__get_Y(df_batch)\n",
    "        return X, y\n",
    "    \n",
    "    def __getitem__(self, index):\n",
    "        '''creates batches and returns final X and y'''\n",
    "        index = self.index[index * self.batch_size:(index + 1) * self.batch_size]\n",
    "        batch = [self.indices[k] for k in index]\n",
    "        X, y = self._get_data(batch)\n",
    "        return X, y"
   ]
  },
  {
   "cell_type": "code",
   "execution_count": 7,
   "metadata": {},
   "outputs": [],
   "source": [
    "datagenerator_train = DataGenerator(df=df_X_y_train, shuffle=True)\n",
    "datagenerator_test = DataGenerator(df=df_X_y_test, shuffle=True)"
   ]
  },
  {
   "cell_type": "code",
   "execution_count": 8,
   "metadata": {},
   "outputs": [
    {
     "data": {
      "text/plain": [
       "(64, 224, 224, 3)"
      ]
     },
     "execution_count": 8,
     "metadata": {},
     "output_type": "execute_result"
    }
   ],
   "source": [
    "datagenerator_train.__getitem__(0)[0].shape"
   ]
  },
  {
   "cell_type": "code",
   "execution_count": 9,
   "metadata": {},
   "outputs": [],
   "source": [
    "import keras \n",
    "import tensorflow.keras as tf\n",
    "from tensorflow.keras import models\n",
    "from tensorflow.keras import layers\n",
    "from keras.layers import Dense, Input, GlobalAveragePooling2D, Dropout, Concatenate\n",
    "from keras import Sequential\n",
    "from tensorflow.keras.models import Model\n",
    "\n",
    "# telechargement modèle ResNet50\n",
    "base_model = keras.applications.ResNet50(\n",
    "        weights=\"imagenet\",\n",
    "        input_shape=(224, 224, 3),\n",
    "        include_top=False\n",
    "            )\n",
    "# freeze \n",
    "for layer in base_model.layers[:200]:\n",
    "    layer.trainable = False\n",
    "inputs = keras.Input(shape=(224, 224, 3))\n",
    "x = base_model(inputs, training =True)\n",
    "x = GlobalAveragePooling2D()(x)\n",
    "x = Dropout(0.2)(x)\n",
    "x = Dense(37, activation='linear')(x)\n",
    "cnn_model = keras.Model(inputs=inputs, outputs=x)"
   ]
  },
  {
   "cell_type": "code",
   "execution_count": 10,
   "metadata": {},
   "outputs": [
    {
     "name": "stdout",
     "output_type": "stream",
     "text": [
      "Model: \"model\"\n",
      "_________________________________________________________________\n",
      "Layer (type)                 Output Shape              Param #   \n",
      "=================================================================\n",
      "input_2 (InputLayer)         [(None, 224, 224, 3)]     0         \n",
      "_________________________________________________________________\n",
      "resnet50 (Functional)        (None, 7, 7, 2048)        23587712  \n",
      "_________________________________________________________________\n",
      "global_average_pooling2d (Gl (None, 2048)              0         \n",
      "_________________________________________________________________\n",
      "dropout (Dropout)            (None, 2048)              0         \n",
      "_________________________________________________________________\n",
      "dense (Dense)                (None, 37)                75813     \n",
      "=================================================================\n",
      "Total params: 23,663,525\n",
      "Trainable params: 75,813\n",
      "Non-trainable params: 23,587,712\n",
      "_________________________________________________________________\n"
     ]
    }
   ],
   "source": [
    "cnn_model.summary()\n"
   ]
  },
  {
   "cell_type": "code",
   "execution_count": 11,
   "metadata": {},
   "outputs": [],
   "source": [
    "cnn_model.compile(loss='mse',  #loss a voir\n",
    "              optimizer='adam',\n",
    "              metrics='mse')"
   ]
  },
  {
   "cell_type": "code",
   "execution_count": 12,
   "metadata": {},
   "outputs": [],
   "source": [
    "from tensorflow.keras.callbacks import EarlyStopping\n",
    "es = EarlyStopping(patience=3)"
   ]
  },
  {
   "cell_type": "code",
   "execution_count": 13,
   "metadata": {
    "collapsed": true
   },
   "outputs": [
    {
     "name": "stdout",
     "output_type": "stream",
     "text": [
      "Epoch 1/500\n",
      "3/3 [==============================] - 41s 17s/step - loss: 2.0980 - mse: 2.0980 - val_loss: 0.4386 - val_mse: 0.4386\n",
      "Epoch 2/500\n",
      "3/3 [==============================] - 43s 18s/step - loss: 0.9343 - mse: 0.9343 - val_loss: 0.5101 - val_mse: 0.5101\n",
      "Epoch 3/500\n",
      "3/3 [==============================] - 44s 18s/step - loss: 0.9969 - mse: 0.9969 - val_loss: 0.4034 - val_mse: 0.4034\n",
      "Epoch 4/500\n",
      "3/3 [==============================] - 46s 19s/step - loss: 0.8455 - mse: 0.8455 - val_loss: 0.2726 - val_mse: 0.2726\n",
      "Epoch 5/500\n",
      "3/3 [==============================] - 44s 18s/step - loss: 0.7185 - mse: 0.7185 - val_loss: 0.2318 - val_mse: 0.2318\n",
      "Epoch 6/500\n",
      "3/3 [==============================] - 46s 19s/step - loss: 0.6628 - mse: 0.6628 - val_loss: 0.2084 - val_mse: 0.2084\n",
      "Epoch 7/500\n",
      "3/3 [==============================] - 45s 18s/step - loss: 0.5930 - mse: 0.5930 - val_loss: 0.1871 - val_mse: 0.1871\n",
      "Epoch 8/500\n",
      "3/3 [==============================] - 45s 19s/step - loss: 0.5662 - mse: 0.5662 - val_loss: 0.1619 - val_mse: 0.1619\n",
      "Epoch 9/500\n",
      "3/3 [==============================] - 47s 20s/step - loss: 0.5068 - mse: 0.5068 - val_loss: 0.1491 - val_mse: 0.1491\n",
      "Epoch 10/500\n",
      "3/3 [==============================] - 54s 23s/step - loss: 0.4928 - mse: 0.4928 - val_loss: 0.1353 - val_mse: 0.1353\n",
      "Epoch 11/500\n",
      "3/3 [==============================] - 57s 24s/step - loss: 0.4721 - mse: 0.4721 - val_loss: 0.1229 - val_mse: 0.1229\n",
      "Epoch 12/500\n",
      "3/3 [==============================] - 47s 18s/step - loss: 0.4591 - mse: 0.4591 - val_loss: 0.1122 - val_mse: 0.1122\n",
      "Epoch 13/500\n",
      "3/3 [==============================] - 45s 18s/step - loss: 0.4387 - mse: 0.4387 - val_loss: 0.1123 - val_mse: 0.1123\n",
      "Epoch 14/500\n",
      "3/3 [==============================] - 43s 18s/step - loss: 0.4285 - mse: 0.4285 - val_loss: 0.1053 - val_mse: 0.1053\n",
      "Epoch 15/500\n",
      "3/3 [==============================] - 44s 18s/step - loss: 0.3995 - mse: 0.3995 - val_loss: 0.1034 - val_mse: 0.1034\n",
      "Epoch 16/500\n",
      "3/3 [==============================] - 42s 18s/step - loss: 0.3835 - mse: 0.3835 - val_loss: 0.1008 - val_mse: 0.1008\n",
      "Epoch 17/500\n",
      "3/3 [==============================] - 42s 18s/step - loss: 0.3771 - mse: 0.3771 - val_loss: 0.0992 - val_mse: 0.0992\n",
      "Epoch 18/500\n",
      "3/3 [==============================] - 46s 19s/step - loss: 0.3660 - mse: 0.3660 - val_loss: 0.0986 - val_mse: 0.0986\n",
      "Epoch 19/500\n",
      "3/3 [==============================] - 44s 18s/step - loss: 0.3604 - mse: 0.3604 - val_loss: 0.0917 - val_mse: 0.0917\n",
      "Epoch 20/500\n",
      "3/3 [==============================] - 53s 23s/step - loss: 0.3439 - mse: 0.3439 - val_loss: 0.0885 - val_mse: 0.0885\n",
      "Epoch 21/500\n",
      "3/3 [==============================] - 66s 29s/step - loss: 0.3416 - mse: 0.3416 - val_loss: 0.0840 - val_mse: 0.0840\n",
      "Epoch 22/500\n",
      "3/3 [==============================] - 46s 19s/step - loss: 0.3112 - mse: 0.3112 - val_loss: 0.0877 - val_mse: 0.0877\n",
      "Epoch 23/500\n",
      "3/3 [==============================] - 46s 19s/step - loss: 0.3102 - mse: 0.3102 - val_loss: 0.0844 - val_mse: 0.0844\n",
      "Epoch 24/500\n",
      "3/3 [==============================] - 43s 18s/step - loss: 0.3057 - mse: 0.3057 - val_loss: 0.0820 - val_mse: 0.0820\n",
      "Epoch 25/500\n",
      "3/3 [==============================] - 48s 20s/step - loss: 0.2880 - mse: 0.2880 - val_loss: 0.0810 - val_mse: 0.0810\n",
      "Epoch 26/500\n",
      "3/3 [==============================] - 48s 19s/step - loss: 0.2875 - mse: 0.2875 - val_loss: 0.0784 - val_mse: 0.0784\n",
      "Epoch 27/500\n",
      "3/3 [==============================] - 47s 20s/step - loss: 0.2758 - mse: 0.2758 - val_loss: 0.0794 - val_mse: 0.0794\n",
      "Epoch 28/500\n",
      "3/3 [==============================] - 54s 22s/step - loss: 0.2611 - mse: 0.2611 - val_loss: 0.0753 - val_mse: 0.0753\n",
      "Epoch 29/500\n",
      "3/3 [==============================] - 43s 18s/step - loss: 0.2654 - mse: 0.2654 - val_loss: 0.0769 - val_mse: 0.0769\n",
      "Epoch 30/500\n",
      "3/3 [==============================] - 43s 18s/step - loss: 0.2550 - mse: 0.2550 - val_loss: 0.0738 - val_mse: 0.0738\n",
      "Epoch 31/500\n",
      "3/3 [==============================] - 43s 18s/step - loss: 0.2485 - mse: 0.2485 - val_loss: 0.0748 - val_mse: 0.0748\n",
      "Epoch 32/500\n",
      "3/3 [==============================] - 43s 18s/step - loss: 0.2464 - mse: 0.2464 - val_loss: 0.0721 - val_mse: 0.0721\n",
      "Epoch 33/500\n",
      "3/3 [==============================] - 43s 18s/step - loss: 0.2446 - mse: 0.2446 - val_loss: 0.0723 - val_mse: 0.0723\n",
      "Epoch 34/500\n",
      "3/3 [==============================] - 43s 18s/step - loss: 0.2270 - mse: 0.2270 - val_loss: 0.0704 - val_mse: 0.0704\n",
      "Epoch 35/500\n",
      "3/3 [==============================] - 43s 18s/step - loss: 0.2309 - mse: 0.2309 - val_loss: 0.0715 - val_mse: 0.0715\n",
      "Epoch 36/500\n",
      "3/3 [==============================] - 44s 18s/step - loss: 0.2188 - mse: 0.2188 - val_loss: 0.0713 - val_mse: 0.0713\n",
      "Epoch 37/500\n",
      "3/3 [==============================] - 44s 18s/step - loss: 0.2121 - mse: 0.2121 - val_loss: 0.0697 - val_mse: 0.0697\n",
      "Epoch 38/500\n",
      "3/3 [==============================] - 43s 18s/step - loss: 0.2029 - mse: 0.2029 - val_loss: 0.0681 - val_mse: 0.0681\n",
      "Epoch 39/500\n",
      "3/3 [==============================] - 55s 24s/step - loss: 0.1890 - mse: 0.1890 - val_loss: 0.0678 - val_mse: 0.0678\n",
      "Epoch 40/500\n",
      "3/3 [==============================] - 56s 22s/step - loss: 0.1906 - mse: 0.1906 - val_loss: 0.0688 - val_mse: 0.0688\n",
      "Epoch 41/500\n",
      "3/3 [==============================] - 51s 21s/step - loss: 0.1894 - mse: 0.1894 - val_loss: 0.0658 - val_mse: 0.0658\n",
      "Epoch 42/500\n",
      "3/3 [==============================] - 46s 18s/step - loss: 0.1909 - mse: 0.1909 - val_loss: 0.0653 - val_mse: 0.0653\n",
      "Epoch 43/500\n",
      "3/3 [==============================] - 44s 18s/step - loss: 0.1775 - mse: 0.1775 - val_loss: 0.0638 - val_mse: 0.0638\n",
      "Epoch 44/500\n",
      "3/3 [==============================] - 48s 20s/step - loss: 0.1759 - mse: 0.1759 - val_loss: 0.0654 - val_mse: 0.0654\n",
      "Epoch 45/500\n",
      "3/3 [==============================] - 44s 18s/step - loss: 0.1722 - mse: 0.1722 - val_loss: 0.0653 - val_mse: 0.0653\n",
      "Epoch 46/500\n",
      "3/3 [==============================] - 44s 18s/step - loss: 0.1661 - mse: 0.1661 - val_loss: 0.0642 - val_mse: 0.0642\n"
     ]
    },
    {
     "data": {
      "text/plain": [
       "<tensorflow.python.keras.callbacks.History at 0x1370af4f0>"
      ]
     },
     "execution_count": 13,
     "metadata": {},
     "output_type": "execute_result"
    }
   ],
   "source": [
    "cnn_model.fit(datagenerator_train, batch_size=2, epochs=500, callbacks=es, verbose=1, validation_data=datagenerator_test)\n"
   ]
  },
  {
   "cell_type": "code",
   "execution_count": 14,
   "metadata": {},
   "outputs": [],
   "source": [
    "image = df_X_y.sample(1)[['image']]\n",
    "image_jpg = np.array(image)[0][0]"
   ]
  },
  {
   "cell_type": "code",
   "execution_count": 15,
   "metadata": {},
   "outputs": [],
   "source": [
    "predict = cnn_model.predict(load_images(image))\n",
    "#cnn_model.predict(load_images(image)).sum()"
   ]
  },
  {
   "cell_type": "code",
   "execution_count": 16,
   "metadata": {},
   "outputs": [
    {
     "data": {
      "image/png": "[encoded data removed]",
      "text/plain": [
       "<PIL.JpegImagePlugin.JpegImageFile image mode=RGB size=424x424 at 0x13F7A9CD0>"
      ]
     },
     "execution_count": 16,
     "metadata": {},
     "output_type": "execute_result"
    }
   ],
   "source": [
    "Image.open(f'../raw_data/images_test_rev1/{image_jpg}')"
   ]
  },
  {
   "cell_type": "code",
   "execution_count": 17,
   "metadata": {
    "scrolled": true
   },
   "outputs": [
    {
     "data": {
      "text/html": [
       "<div>\n",
       "<style scoped>\n",
       "    .dataframe tbody tr th:only-of-type {\n",
       "        vertical-align: middle;\n",
       "    }\n",
       "\n",
       "    .dataframe tbody tr th {\n",
       "        vertical-align: top;\n",
       "    }\n",
       "\n",
       "    .dataframe thead th {\n",
       "        text-align: right;\n",
       "    }\n",
       "</style>\n",
       "<table border=\"1\" class=\"dataframe\">\n",
       "  <thead>\n",
       "    <tr style=\"text-align: right;\">\n",
       "      <th></th>\n",
       "      <th>Class1.1</th>\n",
       "      <th>Class1.2</th>\n",
       "      <th>Class1.3</th>\n",
       "      <th>Class2.1</th>\n",
       "      <th>Class2.2</th>\n",
       "      <th>Class3.1</th>\n",
       "      <th>Class3.2</th>\n",
       "      <th>Class4.1</th>\n",
       "      <th>Class4.2</th>\n",
       "      <th>Class5.1</th>\n",
       "      <th>...</th>\n",
       "      <th>Class10.1</th>\n",
       "      <th>Class10.2</th>\n",
       "      <th>Class10.3</th>\n",
       "      <th>Class11.1</th>\n",
       "      <th>Class11.2</th>\n",
       "      <th>Class11.3</th>\n",
       "      <th>Class11.4</th>\n",
       "      <th>Class11.5</th>\n",
       "      <th>Class11.6</th>\n",
       "      <th>image</th>\n",
       "    </tr>\n",
       "  </thead>\n",
       "  <tbody>\n",
       "    <tr>\n",
       "      <th>42000</th>\n",
       "      <td>0.792308</td>\n",
       "      <td>0.13237</td>\n",
       "      <td>0.075321</td>\n",
       "      <td>0.0</td>\n",
       "      <td>0.13237</td>\n",
       "      <td>0.0</td>\n",
       "      <td>0.13237</td>\n",
       "      <td>0.0</td>\n",
       "      <td>0.13237</td>\n",
       "      <td>0.0</td>\n",
       "      <td>...</td>\n",
       "      <td>0.0</td>\n",
       "      <td>0.0</td>\n",
       "      <td>0.0</td>\n",
       "      <td>0.0</td>\n",
       "      <td>0.0</td>\n",
       "      <td>0.0</td>\n",
       "      <td>0.0</td>\n",
       "      <td>0.0</td>\n",
       "      <td>0.0</td>\n",
       "      <td>569489.jpg</td>\n",
       "    </tr>\n",
       "  </tbody>\n",
       "</table>\n",
       "<p>1 rows × 38 columns</p>\n",
       "</div>"
      ],
      "text/plain": [
       "       Class1.1  Class1.2  Class1.3  Class2.1  Class2.2  Class3.1  Class3.2  \\\n",
       "42000  0.792308   0.13237  0.075321       0.0   0.13237       0.0   0.13237   \n",
       "\n",
       "       Class4.1  Class4.2  Class5.1  ...  Class10.1  Class10.2  Class10.3  \\\n",
       "42000       0.0   0.13237       0.0  ...        0.0        0.0        0.0   \n",
       "\n",
       "       Class11.1  Class11.2  Class11.3  Class11.4  Class11.5  Class11.6  \\\n",
       "42000        0.0        0.0        0.0        0.0        0.0        0.0   \n",
       "\n",
       "            image  \n",
       "42000  569489.jpg  \n",
       "\n",
       "[1 rows x 38 columns]"
      ]
     },
     "execution_count": 17,
     "metadata": {},
     "output_type": "execute_result"
    }
   ],
   "source": [
    "df_X_y[df_X_y['image']==image_jpg]\n"
   ]
  },
  {
   "cell_type": "code",
   "execution_count": 30,
   "metadata": {},
   "outputs": [
    {
     "data": {
      "text/html": [
       "<div>\n",
       "<style scoped>\n",
       "    .dataframe tbody tr th:only-of-type {\n",
       "        vertical-align: middle;\n",
       "    }\n",
       "\n",
       "    .dataframe tbody tr th {\n",
       "        vertical-align: top;\n",
       "    }\n",
       "\n",
       "    .dataframe thead th {\n",
       "        text-align: right;\n",
       "    }\n",
       "</style>\n",
       "<table border=\"1\" class=\"dataframe\">\n",
       "  <thead>\n",
       "    <tr style=\"text-align: right;\">\n",
       "      <th></th>\n",
       "      <th>Class1.1</th>\n",
       "      <th>Class1.2</th>\n",
       "      <th>Class1.3</th>\n",
       "      <th>Class2.1</th>\n",
       "      <th>Class2.2</th>\n",
       "      <th>Class3.1</th>\n",
       "      <th>Class3.2</th>\n",
       "      <th>Class4.1</th>\n",
       "      <th>Class4.2</th>\n",
       "      <th>Class5.1</th>\n",
       "      <th>...</th>\n",
       "      <th>Class9.3</th>\n",
       "      <th>Class10.1</th>\n",
       "      <th>Class10.2</th>\n",
       "      <th>Class10.3</th>\n",
       "      <th>Class11.1</th>\n",
       "      <th>Class11.2</th>\n",
       "      <th>Class11.3</th>\n",
       "      <th>Class11.4</th>\n",
       "      <th>Class11.5</th>\n",
       "      <th>Class11.6</th>\n",
       "    </tr>\n",
       "  </thead>\n",
       "  <tbody>\n",
       "    <tr>\n",
       "      <th>0</th>\n",
       "      <td>0.504588</td>\n",
       "      <td>0.584712</td>\n",
       "      <td>0.262138</td>\n",
       "      <td>0.108997</td>\n",
       "      <td>0.334854</td>\n",
       "      <td>0.000539</td>\n",
       "      <td>0.183565</td>\n",
       "      <td>0.208301</td>\n",
       "      <td>0.274276</td>\n",
       "      <td>-0.10087</td>\n",
       "      <td>...</td>\n",
       "      <td>0.031748</td>\n",
       "      <td>0.144601</td>\n",
       "      <td>-0.161665</td>\n",
       "      <td>0.276021</td>\n",
       "      <td>0.138829</td>\n",
       "      <td>0.333487</td>\n",
       "      <td>0.091682</td>\n",
       "      <td>-0.208109</td>\n",
       "      <td>-0.122275</td>\n",
       "      <td>0.005705</td>\n",
       "    </tr>\n",
       "  </tbody>\n",
       "</table>\n",
       "<p>1 rows × 37 columns</p>\n",
       "</div>"
      ],
      "text/plain": [
       "   Class1.1  Class1.2  Class1.3  Class2.1  Class2.2  Class3.1  Class3.2  \\\n",
       "0  0.504588  0.584712  0.262138  0.108997  0.334854  0.000539  0.183565   \n",
       "\n",
       "   Class4.1  Class4.2  Class5.1  ...  Class9.3  Class10.1  Class10.2  \\\n",
       "0  0.208301  0.274276  -0.10087  ...  0.031748   0.144601  -0.161665   \n",
       "\n",
       "   Class10.3  Class11.1  Class11.2  Class11.3  Class11.4  Class11.5  Class11.6  \n",
       "0   0.276021   0.138829   0.333487   0.091682  -0.208109  -0.122275   0.005705  \n",
       "\n",
       "[1 rows x 37 columns]"
      ]
     },
     "execution_count": 30,
     "metadata": {},
     "output_type": "execute_result"
    }
   ],
   "source": [
    "df_X_y_noimage = df_X_y.drop(columns=['image'])\n",
    "pd.DataFrame(predict, columns=list(df_X_y_noimage.columns))\n",
    "#list(df_X_y_noimage.columns)"
   ]
  },
  {
   "cell_type": "code",
   "execution_count": 22,
   "metadata": {},
   "outputs": [
    {
     "name": "stdout",
     "output_type": "stream",
     "text": [
      "3/3 [==============================] - 18s 6s/step - loss: 0.0638 - mse: 0.0638\n"
     ]
    }
   ],
   "source": [
    "evaluation = cnn_model.evaluate(datagenerator_test)"
   ]
  },
  {
   "cell_type": "code",
   "execution_count": 23,
   "metadata": {},
   "outputs": [
    {
     "data": {
      "text/plain": [
       "0.25263669928575344"
      ]
     },
     "execution_count": 23,
     "metadata": {},
     "output_type": "execute_result"
    }
   ],
   "source": [
    "np.sqrt(evaluation[0])"
   ]
  },
  {
   "cell_type": "code",
   "execution_count": null,
   "metadata": {},
   "outputs": [],
   "source": []
  }
 ],
 "metadata": {
  "kernelspec": {
   "display_name": "Python 3",
   "language": "python",
   "name": "python3"
  },
  "language_info": {
   "codemirror_mode": {
    "name": "ipython",
    "version": 3
   },
   "file_extension": ".py",
   "mimetype": "text/x-python",
   "name": "python",
   "nbconvert_exporter": "python",
   "pygments_lexer": "ipython3",
   "version": "3.8.6"
  }
 },
 "nbformat": 4,
 "nbformat_minor": 4
}

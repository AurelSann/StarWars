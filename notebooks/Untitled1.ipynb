{
 "cells": [
  {
   "cell_type": "code",
   "execution_count": 2,
   "id": "liquid-pharmacology",
   "metadata": {},
   "outputs": [
    {
     "name": "stdout",
     "output_type": "stream",
     "text": [
      "zsh:1: command not found: gcould\r\n"
     ]
    }
   ],
   "source": [
    "!gcould info\n"
   ]
  },
  {
   "cell_type": "code",
   "execution_count": 3,
   "id": "forced-joshua",
   "metadata": {},
   "outputs": [
    {
     "name": "stdout",
     "output_type": "stream",
     "text": [
      "/Users/mickaelkomendyak/code/AurelSann/StarWars/notebooks\r\n"
     ]
    }
   ],
   "source": [
    "!pwd\n"
   ]
  },
  {
   "cell_type": "code",
   "execution_count": 4,
   "id": "tamil-prediction",
   "metadata": {},
   "outputs": [
    {
     "name": "stdout",
     "output_type": "stream",
     "text": [
      "  3.8.6/envs/galaxy_project (created from /Users/mickaelkomendyak/.pyenv/versions/3.8.6)\n",
      "  3.8.6/envs/lewagon (created from /Users/mickaelkomendyak/.pyenv/versions/3.8.6)\n",
      "* galaxy_project (created from /Users/mickaelkomendyak/.pyenv/versions/3.8.6)\n",
      "  lewagon (created from /Users/mickaelkomendyak/.pyenv/versions/3.8.6)\n"
     ]
    }
   ],
   "source": [
    "!pyenv virtualenvs"
   ]
  },
  {
   "cell_type": "code",
   "execution_count": 5,
   "id": "substantial-chemistry",
   "metadata": {},
   "outputs": [
    {
     "name": "stdout",
     "output_type": "stream",
     "text": [
      "zsh:1: command not found: gcould\r\n"
     ]
    }
   ],
   "source": [
    "!gcould info"
   ]
  },
  {
   "cell_type": "code",
   "execution_count": 6,
   "id": "instrumental-alarm",
   "metadata": {},
   "outputs": [
    {
     "data": {
      "text/plain": [
       "'gs://lw-verspieren-starwars/data/'"
      ]
     },
     "execution_count": 6,
     "metadata": {},
     "output_type": "execute_result"
    }
   ],
   "source": [
    "\"gs://lw-verspieren-starwars/data/\""
   ]
  },
  {
   "cell_type": "code",
   "execution_count": 31,
   "id": "communist-weapon",
   "metadata": {},
   "outputs": [],
   "source": [
    "paths = {\n",
    "    'BUCKET':'lw-verspieren-starwars',\n",
    "    'FOLDER': 'data/images_train/'}\n",
    "filename = '100008.jpg'"
   ]
  },
  {
   "cell_type": "code",
   "execution_count": 26,
   "id": "mysterious-percentage",
   "metadata": {},
   "outputs": [
    {
     "data": {
      "text/plain": [
       "'lw-verspieren-starwars'"
      ]
     },
     "execution_count": 26,
     "metadata": {},
     "output_type": "execute_result"
    }
   ],
   "source": [
    "from google.cloud import storage\n",
    "paths['BUCKET']"
   ]
  },
  {
   "cell_type": "code",
   "execution_count": 27,
   "id": "virtual-speaker",
   "metadata": {},
   "outputs": [],
   "source": [
    "client = storage.Client()\n",
    "bucket = client.get_bucket(paths['BUCKET'])"
   ]
  },
  {
   "cell_type": "code",
   "execution_count": 32,
   "id": "special-webcam",
   "metadata": {},
   "outputs": [],
   "source": [
    "blob = bucket.blob(paths['FOLDER']+filename)"
   ]
  },
  {
   "cell_type": "code",
   "execution_count": 33,
   "id": "cooperative-ethernet",
   "metadata": {},
   "outputs": [],
   "source": [
    "blob.download_to_filename(filename)"
   ]
  },
  {
   "cell_type": "code",
   "execution_count": 34,
   "id": "confused-fetish",
   "metadata": {},
   "outputs": [],
   "source": [
    "import os\n"
   ]
  },
  {
   "cell_type": "code",
   "execution_count": 36,
   "id": "actual-understanding",
   "metadata": {},
   "outputs": [
    {
     "data": {
      "text/plain": [
       "'7.20.0'"
      ]
     },
     "execution_count": 36,
     "metadata": {},
     "output_type": "execute_result"
    }
   ],
   "source": [
    "import IPython\n",
    "IPython.__version__"
   ]
  },
  {
   "cell_type": "code",
   "execution_count": null,
   "id": "nuclear-privilege",
   "metadata": {},
   "outputs": [],
   "source": []
  }
 ],
 "metadata": {
  "kernelspec": {
   "display_name": "Python 3",
   "language": "python",
   "name": "python3"
  },
  "language_info": {
   "codemirror_mode": {
    "name": "ipython",
    "version": 3
   },
   "file_extension": ".py",
   "mimetype": "text/x-python",
   "name": "python",
   "nbconvert_exporter": "python",
   "pygments_lexer": "ipython3",
   "version": "3.8.6"
  }
 },
 "nbformat": 4,
 "nbformat_minor": 5
}

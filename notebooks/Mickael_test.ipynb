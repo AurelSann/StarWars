{
 "cells": [
  {
   "cell_type": "code",
   "execution_count": 1,
   "id": "worth-bernard",
   "metadata": {},
   "outputs": [],
   "source": [
    "import pandas as pd\n",
    "from google.cloud import storage\n",
    "import gcsfs\n",
    "import numpy as np\n",
    "import pandas as pd\n",
    "from PIL import Image"
   ]
  },
  {
   "cell_type": "code",
   "execution_count": 2,
   "id": "south-discussion",
   "metadata": {},
   "outputs": [
    {
     "name": "stdout",
     "output_type": "stream",
     "text": [
      "all_ones_benchmark.csv          \u001b[1m\u001b[36mimages_training_rev1\u001b[m\u001b[m\r\n",
      "all_zeros_benchmark.csv         \u001b[1m\u001b[36mtest_sample\u001b[m\u001b[m\r\n",
      "central_pixel_benchmark.csv     \u001b[1m\u001b[36mtrain_sample\u001b[m\u001b[m\r\n",
      "\u001b[1m\u001b[36mgalaxy-zoo-the-galaxy-challenge\u001b[m\u001b[m training_solutions_rev1.csv\r\n",
      "\u001b[1m\u001b[36mimages_test_rev1\u001b[m\u001b[m                \u001b[1m\u001b[36mzips\u001b[m\u001b[m\r\n"
     ]
    }
   ],
   "source": [
    "!ls ../raw_data/"
   ]
  },
  {
   "cell_type": "code",
   "execution_count": 5,
   "id": "moral-complexity",
   "metadata": {},
   "outputs": [],
   "source": [
    "image_train_names = !ls ../raw_data/images_training_rev1/"
   ]
  },
  {
   "cell_type": "code",
   "execution_count": 6,
   "id": "inner-passport",
   "metadata": {},
   "outputs": [],
   "source": [
    "image_train_names_sample = !ls ../raw_data/train_sample/"
   ]
  },
  {
   "cell_type": "code",
   "execution_count": 8,
   "id": "crude-attribute",
   "metadata": {},
   "outputs": [
    {
     "data": {
      "text/plain": [
       "62079"
      ]
     },
     "execution_count": 8,
     "metadata": {},
     "output_type": "execute_result"
    }
   ],
   "source": [
    "len(image_train_names) + len(image_train_names_sample)"
   ]
  },
  {
   "cell_type": "code",
   "execution_count": 10,
   "id": "organic-excellence",
   "metadata": {},
   "outputs": [],
   "source": [
    "df_training_solutions_rev1 = pd.read_csv('../raw_data/training_solutions_rev1.csv')"
   ]
  },
  {
   "cell_type": "code",
   "execution_count": 11,
   "id": "collect-instruction",
   "metadata": {},
   "outputs": [
    {
     "data": {
      "text/plain": [
       "(61578, 38)"
      ]
     },
     "execution_count": 11,
     "metadata": {},
     "output_type": "execute_result"
    }
   ],
   "source": [
    "df_training_solutions_rev1.shape"
   ]
  },
  {
   "cell_type": "code",
   "execution_count": null,
   "id": "private-birthday",
   "metadata": {},
   "outputs": [],
   "source": []
  }
 ],
 "metadata": {
  "kernelspec": {
   "display_name": "Python 3",
   "language": "python",
   "name": "python3"
  },
  "language_info": {
   "codemirror_mode": {
    "name": "ipython",
    "version": 3
   },
   "file_extension": ".py",
   "mimetype": "text/x-python",
   "name": "python",
   "nbconvert_exporter": "python",
   "pygments_lexer": "ipython3",
   "version": "3.8.6"
  }
 },
 "nbformat": 4,
 "nbformat_minor": 5
}

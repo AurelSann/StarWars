{
 "cells": [
  {
   "cell_type": "code",
   "execution_count": 1,
   "metadata": {},
   "outputs": [],
   "source": [
    "import numpy as np\n",
    "from PIL import Image\n",
    "import pandas as pd\n",
    "%config Completer.use_jedi = False"
   ]
  },
  {
   "cell_type": "code",
   "execution_count": 2,
   "metadata": {},
   "outputs": [],
   "source": [
    "image_names = !ls ../raw_data/galaxy-zoo-the-galaxy-challenge/images_test_rev1/ #loading images_names.jpg to list\n",
    "df_image_names = pd.DataFrame(image_names)  \n",
    "df_image_names = df_image_names.rename(columns={0:'image'}) \n",
    "df_training_solutions_rev1 = pd.read_csv('../raw_data/galaxy-zoo-the-galaxy-challenge/training_solutions_rev1.csv')\n",
    "#loading y dataframe"
   ]
  },
  {
   "cell_type": "code",
   "execution_count": 3,
   "metadata": {},
   "outputs": [
    {
     "data": {
      "text/html": [
       "<div>\n",
       "<style scoped>\n",
       "    .dataframe tbody tr th:only-of-type {\n",
       "        vertical-align: middle;\n",
       "    }\n",
       "\n",
       "    .dataframe tbody tr th {\n",
       "        vertical-align: top;\n",
       "    }\n",
       "\n",
       "    .dataframe thead th {\n",
       "        text-align: right;\n",
       "    }\n",
       "</style>\n",
       "<table border=\"1\" class=\"dataframe\">\n",
       "  <thead>\n",
       "    <tr style=\"text-align: right;\">\n",
       "      <th></th>\n",
       "      <th>Class1.1</th>\n",
       "      <th>Class1.2</th>\n",
       "      <th>Class1.3</th>\n",
       "      <th>Class2.1</th>\n",
       "      <th>Class2.2</th>\n",
       "      <th>Class3.1</th>\n",
       "      <th>Class3.2</th>\n",
       "      <th>Class4.1</th>\n",
       "      <th>Class4.2</th>\n",
       "      <th>Class5.1</th>\n",
       "      <th>...</th>\n",
       "      <th>Class10.1</th>\n",
       "      <th>Class10.2</th>\n",
       "      <th>Class10.3</th>\n",
       "      <th>Class11.1</th>\n",
       "      <th>Class11.2</th>\n",
       "      <th>Class11.3</th>\n",
       "      <th>Class11.4</th>\n",
       "      <th>Class11.5</th>\n",
       "      <th>Class11.6</th>\n",
       "      <th>image</th>\n",
       "    </tr>\n",
       "  </thead>\n",
       "  <tbody>\n",
       "    <tr>\n",
       "      <th>0</th>\n",
       "      <td>0.383147</td>\n",
       "      <td>0.616853</td>\n",
       "      <td>0.000000</td>\n",
       "      <td>0.000000</td>\n",
       "      <td>0.616853</td>\n",
       "      <td>0.038452</td>\n",
       "      <td>0.578401</td>\n",
       "      <td>0.418398</td>\n",
       "      <td>0.198455</td>\n",
       "      <td>0.0</td>\n",
       "      <td>...</td>\n",
       "      <td>0.279952</td>\n",
       "      <td>0.138445</td>\n",
       "      <td>0.00000</td>\n",
       "      <td>0.0</td>\n",
       "      <td>0.092886</td>\n",
       "      <td>0.0</td>\n",
       "      <td>0.0</td>\n",
       "      <td>0.0</td>\n",
       "      <td>0.325512</td>\n",
       "      <td>100018.jpg</td>\n",
       "    </tr>\n",
       "    <tr>\n",
       "      <th>1</th>\n",
       "      <td>0.327001</td>\n",
       "      <td>0.663777</td>\n",
       "      <td>0.009222</td>\n",
       "      <td>0.031178</td>\n",
       "      <td>0.632599</td>\n",
       "      <td>0.467370</td>\n",
       "      <td>0.165229</td>\n",
       "      <td>0.591328</td>\n",
       "      <td>0.041271</td>\n",
       "      <td>0.0</td>\n",
       "      <td>...</td>\n",
       "      <td>0.000000</td>\n",
       "      <td>0.131378</td>\n",
       "      <td>0.45995</td>\n",
       "      <td>0.0</td>\n",
       "      <td>0.591328</td>\n",
       "      <td>0.0</td>\n",
       "      <td>0.0</td>\n",
       "      <td>0.0</td>\n",
       "      <td>0.000000</td>\n",
       "      <td>100037.jpg</td>\n",
       "    </tr>\n",
       "  </tbody>\n",
       "</table>\n",
       "<p>2 rows × 38 columns</p>\n",
       "</div>"
      ],
      "text/plain": [
       "   Class1.1  Class1.2  Class1.3  Class2.1  Class2.2  Class3.1  Class3.2  \\\n",
       "0  0.383147  0.616853  0.000000  0.000000  0.616853  0.038452  0.578401   \n",
       "1  0.327001  0.663777  0.009222  0.031178  0.632599  0.467370  0.165229   \n",
       "\n",
       "   Class4.1  Class4.2  Class5.1  ...  Class10.1  Class10.2  Class10.3  \\\n",
       "0  0.418398  0.198455       0.0  ...   0.279952   0.138445    0.00000   \n",
       "1  0.591328  0.041271       0.0  ...   0.000000   0.131378    0.45995   \n",
       "\n",
       "   Class11.1  Class11.2  Class11.3  Class11.4  Class11.5  Class11.6  \\\n",
       "0        0.0   0.092886        0.0        0.0        0.0   0.325512   \n",
       "1        0.0   0.591328        0.0        0.0        0.0   0.000000   \n",
       "\n",
       "        image  \n",
       "0  100018.jpg  \n",
       "1  100037.jpg  \n",
       "\n",
       "[2 rows x 38 columns]"
      ]
     },
     "execution_count": 3,
     "metadata": {},
     "output_type": "execute_result"
    }
   ],
   "source": [
    "df_training_solutions_rev1['image'] = df_image_names['image']\n",
    "df_X_y = df_training_solutions_rev1.drop(columns=['GalaxyID'])\n",
    "df_X_y.head(2) #final dataframe with y and image_names.jpg"
   ]
  },
  {
   "cell_type": "code",
   "execution_count": 4,
   "metadata": {},
   "outputs": [],
   "source": [
    "import tensorflow as tf\n",
    "\n",
    "def load_image(image):\n",
    "    '''returns one image'''\n",
    "    folder = f'../raw_data/galaxy-zoo-the-galaxy-challenge/images_test_rev1/{image}'\n",
    "    img = Image.open(folder)\n",
    "    img_array = np.array(img)\n",
    "    return np.resize(img_array, (224,224,3))\n",
    "    \n",
    "def load_images(df):\n",
    "    '''returns array of images'''\n",
    "    img_list = []\n",
    "    for _, row in df.iterrows():\n",
    "        img = load_image(row[\"image\"])\n",
    "        img_list.append(img) \n",
    "    return np.stack(img_list)\n",
    "\n",
    "class DataGenerator(tf.keras.utils.Sequence):\n",
    "    \n",
    "    def __init__(self, df, batch_size=64, shuffle=True):\n",
    "        self.batch_size = batch_size\n",
    "        self.df = df\n",
    "        self.indices = self.df.index.tolist()\n",
    "        self.shuffle = shuffle\n",
    "        self.on_epoch_end()\n",
    "        \n",
    "\n",
    "    def __len__(self):\n",
    "        '''returns number of minibatches per epoch'''\n",
    "        return len(self.indices) // self.batch_size\n",
    "    \n",
    "    def on_epoch_end(self):\n",
    "        '''shuffles the indices '''\n",
    "        self.index = np.arange(len(self.indices))\n",
    "        if self.shuffle == True:\n",
    "            np.random.shuffle(self.index)\n",
    "            \n",
    "    def __get_X_image(self, df):\n",
    "        '''returns images'''\n",
    "        X = load_images(df)\n",
    "        return X \n",
    "             \n",
    "    def __get_Y(self, df):\n",
    "        '''returns y'''\n",
    "        return np.array(df.drop(columns=[\"image\"]))\n",
    "    \n",
    "    def _get_data(self, batch):\n",
    "        '''returns batch of images and y'''\n",
    "        df_batch = self.df.query(\"index in @batch\") \n",
    "        X = self.__get_X_image(df_batch)\n",
    "        y = self.__get_Y(df_batch)\n",
    "        return X, y\n",
    "    \n",
    "     def __getitem__(self, index):\n",
    "        '''creates batches and returns final X and y'''\n",
    "        index = self.index[index * self.batch_size:(index + 1) * self.batch_size]\n",
    "        batch = [self.indices[k] for k in index]\n",
    "        X, y = self._get_data(batch)\n",
    "        return X, y"
   ]
  },
  {
   "cell_type": "code",
   "execution_count": 5,
   "metadata": {},
   "outputs": [],
   "source": [
    "datagenerator = DataGenerator(df=df_X_y, shuffle=False)"
   ]
  },
  {
   "cell_type": "code",
   "execution_count": 6,
   "metadata": {},
   "outputs": [
    {
     "data": {
      "text/plain": [
       "(64, 224, 224, 3)"
      ]
     },
     "execution_count": 6,
     "metadata": {},
     "output_type": "execute_result"
    }
   ],
   "source": [
    "datagenerator.__getitem__(0)[0].shape"
   ]
  },
  {
   "cell_type": "code",
   "execution_count": null,
   "metadata": {},
   "outputs": [],
   "source": []
  }
 ],
 "metadata": {
  "kernelspec": {
   "display_name": "Python 3",
   "language": "python",
   "name": "python3"
  },
  "language_info": {
   "codemirror_mode": {
    "name": "ipython",
    "version": 3
   },
   "file_extension": ".py",
   "mimetype": "text/x-python",
   "name": "python",
   "nbconvert_exporter": "python",
   "pygments_lexer": "ipython3",
   "version": "3.8.6"
  }
 },
 "nbformat": 4,
 "nbformat_minor": 4
}
